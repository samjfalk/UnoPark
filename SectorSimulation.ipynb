{
 "cells": [
  {
   "cell_type": "code",
   "execution_count": null,
   "metadata": {
    "collapsed": true
   },
   "outputs": [],
   "source": [
    "https://codereview.stackexchange.com/questions/125286/moving-around-in-a-2d-grid\n"
   ]
  },
  {
   "cell_type": "code",
   "execution_count": 18,
   "metadata": {
    "collapsed": true
   },
   "outputs": [],
   "source": [
    "import pandas as pd"
   ]
  },
  {
   "cell_type": "code",
   "execution_count": 67,
   "metadata": {
    "collapsed": true
   },
   "outputs": [],
   "source": [
    "import numpy as np"
   ]
  },
  {
   "cell_type": "code",
   "execution_count": 68,
   "metadata": {
    "collapsed": true
   },
   "outputs": [],
   "source": [
    "import random"
   ]
  },
  {
   "cell_type": "code",
   "execution_count": 9,
   "metadata": {
    "collapsed": true
   },
   "outputs": [],
   "source": [
    "import Queue"
   ]
  },
  {
   "cell_type": "code",
   "execution_count": null,
   "metadata": {
    "collapsed": true
   },
   "outputs": [],
   "source": [
    "class Board(list):\n",
    "\n",
    "    def __str__(self):\n",
    "        return \"\\n\".join(\" \".join(row) for row in self)"
   ]
  },
  {
   "cell_type": "code",
   "execution_count": null,
   "metadata": {
    "collapsed": true
   },
   "outputs": [],
   "source": [
    "#create randomized jobs"
   ]
  },
  {
   "cell_type": "code",
   "execution_count": 4,
   "metadata": {
    "collapsed": true
   },
   "outputs": [],
   "source": [
    "columns= ['PickupX', 'PickupY', 'DropoffX', 'DropoffY']"
   ]
  },
  {
   "cell_type": "code",
   "execution_count": 23,
   "metadata": {
    "collapsed": false
   },
   "outputs": [],
   "source": [
    "DFRequests = pd.DataFrame(np.random.randint(4, size=(101, 4)), columns= columns)"
   ]
  },
  {
   "cell_type": "code",
   "execution_count": 24,
   "metadata": {
    "collapsed": false
   },
   "outputs": [
    {
     "data": {
      "text/html": [
       "<div>\n",
       "<table border=\"1\" class=\"dataframe\">\n",
       "  <thead>\n",
       "    <tr style=\"text-align: right;\">\n",
       "      <th></th>\n",
       "      <th>PickupX</th>\n",
       "      <th>PickupY</th>\n",
       "      <th>DropoffX</th>\n",
       "      <th>DropoffY</th>\n",
       "    </tr>\n",
       "  </thead>\n",
       "  <tbody>\n",
       "    <tr>\n",
       "      <th>0</th>\n",
       "      <td>1</td>\n",
       "      <td>2</td>\n",
       "      <td>0</td>\n",
       "      <td>3</td>\n",
       "    </tr>\n",
       "    <tr>\n",
       "      <th>1</th>\n",
       "      <td>3</td>\n",
       "      <td>3</td>\n",
       "      <td>1</td>\n",
       "      <td>3</td>\n",
       "    </tr>\n",
       "    <tr>\n",
       "      <th>2</th>\n",
       "      <td>3</td>\n",
       "      <td>1</td>\n",
       "      <td>3</td>\n",
       "      <td>0</td>\n",
       "    </tr>\n",
       "    <tr>\n",
       "      <th>3</th>\n",
       "      <td>0</td>\n",
       "      <td>0</td>\n",
       "      <td>1</td>\n",
       "      <td>0</td>\n",
       "    </tr>\n",
       "    <tr>\n",
       "      <th>4</th>\n",
       "      <td>2</td>\n",
       "      <td>2</td>\n",
       "      <td>1</td>\n",
       "      <td>3</td>\n",
       "    </tr>\n",
       "    <tr>\n",
       "      <th>5</th>\n",
       "      <td>2</td>\n",
       "      <td>2</td>\n",
       "      <td>2</td>\n",
       "      <td>2</td>\n",
       "    </tr>\n",
       "    <tr>\n",
       "      <th>6</th>\n",
       "      <td>0</td>\n",
       "      <td>2</td>\n",
       "      <td>2</td>\n",
       "      <td>0</td>\n",
       "    </tr>\n",
       "    <tr>\n",
       "      <th>7</th>\n",
       "      <td>3</td>\n",
       "      <td>3</td>\n",
       "      <td>1</td>\n",
       "      <td>0</td>\n",
       "    </tr>\n",
       "    <tr>\n",
       "      <th>8</th>\n",
       "      <td>2</td>\n",
       "      <td>0</td>\n",
       "      <td>2</td>\n",
       "      <td>3</td>\n",
       "    </tr>\n",
       "    <tr>\n",
       "      <th>9</th>\n",
       "      <td>2</td>\n",
       "      <td>3</td>\n",
       "      <td>2</td>\n",
       "      <td>3</td>\n",
       "    </tr>\n",
       "    <tr>\n",
       "      <th>10</th>\n",
       "      <td>2</td>\n",
       "      <td>2</td>\n",
       "      <td>0</td>\n",
       "      <td>1</td>\n",
       "    </tr>\n",
       "    <tr>\n",
       "      <th>11</th>\n",
       "      <td>3</td>\n",
       "      <td>0</td>\n",
       "      <td>0</td>\n",
       "      <td>2</td>\n",
       "    </tr>\n",
       "    <tr>\n",
       "      <th>12</th>\n",
       "      <td>2</td>\n",
       "      <td>2</td>\n",
       "      <td>0</td>\n",
       "      <td>1</td>\n",
       "    </tr>\n",
       "    <tr>\n",
       "      <th>13</th>\n",
       "      <td>1</td>\n",
       "      <td>2</td>\n",
       "      <td>3</td>\n",
       "      <td>3</td>\n",
       "    </tr>\n",
       "    <tr>\n",
       "      <th>14</th>\n",
       "      <td>0</td>\n",
       "      <td>0</td>\n",
       "      <td>2</td>\n",
       "      <td>3</td>\n",
       "    </tr>\n",
       "    <tr>\n",
       "      <th>15</th>\n",
       "      <td>1</td>\n",
       "      <td>2</td>\n",
       "      <td>3</td>\n",
       "      <td>1</td>\n",
       "    </tr>\n",
       "    <tr>\n",
       "      <th>16</th>\n",
       "      <td>3</td>\n",
       "      <td>2</td>\n",
       "      <td>0</td>\n",
       "      <td>3</td>\n",
       "    </tr>\n",
       "    <tr>\n",
       "      <th>17</th>\n",
       "      <td>1</td>\n",
       "      <td>0</td>\n",
       "      <td>1</td>\n",
       "      <td>2</td>\n",
       "    </tr>\n",
       "    <tr>\n",
       "      <th>18</th>\n",
       "      <td>0</td>\n",
       "      <td>0</td>\n",
       "      <td>1</td>\n",
       "      <td>2</td>\n",
       "    </tr>\n",
       "    <tr>\n",
       "      <th>19</th>\n",
       "      <td>2</td>\n",
       "      <td>3</td>\n",
       "      <td>3</td>\n",
       "      <td>3</td>\n",
       "    </tr>\n",
       "    <tr>\n",
       "      <th>20</th>\n",
       "      <td>1</td>\n",
       "      <td>1</td>\n",
       "      <td>1</td>\n",
       "      <td>1</td>\n",
       "    </tr>\n",
       "    <tr>\n",
       "      <th>21</th>\n",
       "      <td>2</td>\n",
       "      <td>2</td>\n",
       "      <td>0</td>\n",
       "      <td>1</td>\n",
       "    </tr>\n",
       "    <tr>\n",
       "      <th>22</th>\n",
       "      <td>0</td>\n",
       "      <td>0</td>\n",
       "      <td>3</td>\n",
       "      <td>3</td>\n",
       "    </tr>\n",
       "    <tr>\n",
       "      <th>23</th>\n",
       "      <td>2</td>\n",
       "      <td>3</td>\n",
       "      <td>1</td>\n",
       "      <td>3</td>\n",
       "    </tr>\n",
       "    <tr>\n",
       "      <th>24</th>\n",
       "      <td>2</td>\n",
       "      <td>3</td>\n",
       "      <td>2</td>\n",
       "      <td>0</td>\n",
       "    </tr>\n",
       "    <tr>\n",
       "      <th>25</th>\n",
       "      <td>2</td>\n",
       "      <td>2</td>\n",
       "      <td>1</td>\n",
       "      <td>2</td>\n",
       "    </tr>\n",
       "    <tr>\n",
       "      <th>26</th>\n",
       "      <td>2</td>\n",
       "      <td>1</td>\n",
       "      <td>2</td>\n",
       "      <td>2</td>\n",
       "    </tr>\n",
       "    <tr>\n",
       "      <th>27</th>\n",
       "      <td>0</td>\n",
       "      <td>3</td>\n",
       "      <td>2</td>\n",
       "      <td>3</td>\n",
       "    </tr>\n",
       "    <tr>\n",
       "      <th>28</th>\n",
       "      <td>1</td>\n",
       "      <td>3</td>\n",
       "      <td>2</td>\n",
       "      <td>0</td>\n",
       "    </tr>\n",
       "    <tr>\n",
       "      <th>29</th>\n",
       "      <td>2</td>\n",
       "      <td>3</td>\n",
       "      <td>0</td>\n",
       "      <td>2</td>\n",
       "    </tr>\n",
       "    <tr>\n",
       "      <th>...</th>\n",
       "      <td>...</td>\n",
       "      <td>...</td>\n",
       "      <td>...</td>\n",
       "      <td>...</td>\n",
       "    </tr>\n",
       "    <tr>\n",
       "      <th>71</th>\n",
       "      <td>3</td>\n",
       "      <td>2</td>\n",
       "      <td>0</td>\n",
       "      <td>3</td>\n",
       "    </tr>\n",
       "    <tr>\n",
       "      <th>72</th>\n",
       "      <td>3</td>\n",
       "      <td>1</td>\n",
       "      <td>3</td>\n",
       "      <td>2</td>\n",
       "    </tr>\n",
       "    <tr>\n",
       "      <th>73</th>\n",
       "      <td>1</td>\n",
       "      <td>3</td>\n",
       "      <td>3</td>\n",
       "      <td>0</td>\n",
       "    </tr>\n",
       "    <tr>\n",
       "      <th>74</th>\n",
       "      <td>2</td>\n",
       "      <td>0</td>\n",
       "      <td>1</td>\n",
       "      <td>3</td>\n",
       "    </tr>\n",
       "    <tr>\n",
       "      <th>75</th>\n",
       "      <td>1</td>\n",
       "      <td>1</td>\n",
       "      <td>3</td>\n",
       "      <td>2</td>\n",
       "    </tr>\n",
       "    <tr>\n",
       "      <th>76</th>\n",
       "      <td>1</td>\n",
       "      <td>3</td>\n",
       "      <td>1</td>\n",
       "      <td>3</td>\n",
       "    </tr>\n",
       "    <tr>\n",
       "      <th>77</th>\n",
       "      <td>1</td>\n",
       "      <td>3</td>\n",
       "      <td>3</td>\n",
       "      <td>0</td>\n",
       "    </tr>\n",
       "    <tr>\n",
       "      <th>78</th>\n",
       "      <td>2</td>\n",
       "      <td>3</td>\n",
       "      <td>2</td>\n",
       "      <td>3</td>\n",
       "    </tr>\n",
       "    <tr>\n",
       "      <th>79</th>\n",
       "      <td>2</td>\n",
       "      <td>1</td>\n",
       "      <td>1</td>\n",
       "      <td>3</td>\n",
       "    </tr>\n",
       "    <tr>\n",
       "      <th>80</th>\n",
       "      <td>0</td>\n",
       "      <td>0</td>\n",
       "      <td>2</td>\n",
       "      <td>1</td>\n",
       "    </tr>\n",
       "    <tr>\n",
       "      <th>81</th>\n",
       "      <td>0</td>\n",
       "      <td>3</td>\n",
       "      <td>0</td>\n",
       "      <td>0</td>\n",
       "    </tr>\n",
       "    <tr>\n",
       "      <th>82</th>\n",
       "      <td>3</td>\n",
       "      <td>2</td>\n",
       "      <td>0</td>\n",
       "      <td>1</td>\n",
       "    </tr>\n",
       "    <tr>\n",
       "      <th>83</th>\n",
       "      <td>1</td>\n",
       "      <td>2</td>\n",
       "      <td>0</td>\n",
       "      <td>2</td>\n",
       "    </tr>\n",
       "    <tr>\n",
       "      <th>84</th>\n",
       "      <td>0</td>\n",
       "      <td>1</td>\n",
       "      <td>0</td>\n",
       "      <td>3</td>\n",
       "    </tr>\n",
       "    <tr>\n",
       "      <th>85</th>\n",
       "      <td>1</td>\n",
       "      <td>0</td>\n",
       "      <td>3</td>\n",
       "      <td>0</td>\n",
       "    </tr>\n",
       "    <tr>\n",
       "      <th>86</th>\n",
       "      <td>1</td>\n",
       "      <td>2</td>\n",
       "      <td>3</td>\n",
       "      <td>0</td>\n",
       "    </tr>\n",
       "    <tr>\n",
       "      <th>87</th>\n",
       "      <td>2</td>\n",
       "      <td>0</td>\n",
       "      <td>1</td>\n",
       "      <td>0</td>\n",
       "    </tr>\n",
       "    <tr>\n",
       "      <th>88</th>\n",
       "      <td>0</td>\n",
       "      <td>2</td>\n",
       "      <td>3</td>\n",
       "      <td>3</td>\n",
       "    </tr>\n",
       "    <tr>\n",
       "      <th>89</th>\n",
       "      <td>3</td>\n",
       "      <td>1</td>\n",
       "      <td>2</td>\n",
       "      <td>2</td>\n",
       "    </tr>\n",
       "    <tr>\n",
       "      <th>90</th>\n",
       "      <td>0</td>\n",
       "      <td>2</td>\n",
       "      <td>3</td>\n",
       "      <td>3</td>\n",
       "    </tr>\n",
       "    <tr>\n",
       "      <th>91</th>\n",
       "      <td>3</td>\n",
       "      <td>2</td>\n",
       "      <td>1</td>\n",
       "      <td>3</td>\n",
       "    </tr>\n",
       "    <tr>\n",
       "      <th>92</th>\n",
       "      <td>2</td>\n",
       "      <td>1</td>\n",
       "      <td>0</td>\n",
       "      <td>0</td>\n",
       "    </tr>\n",
       "    <tr>\n",
       "      <th>93</th>\n",
       "      <td>2</td>\n",
       "      <td>2</td>\n",
       "      <td>0</td>\n",
       "      <td>1</td>\n",
       "    </tr>\n",
       "    <tr>\n",
       "      <th>94</th>\n",
       "      <td>1</td>\n",
       "      <td>2</td>\n",
       "      <td>3</td>\n",
       "      <td>2</td>\n",
       "    </tr>\n",
       "    <tr>\n",
       "      <th>95</th>\n",
       "      <td>2</td>\n",
       "      <td>3</td>\n",
       "      <td>0</td>\n",
       "      <td>1</td>\n",
       "    </tr>\n",
       "    <tr>\n",
       "      <th>96</th>\n",
       "      <td>3</td>\n",
       "      <td>0</td>\n",
       "      <td>2</td>\n",
       "      <td>2</td>\n",
       "    </tr>\n",
       "    <tr>\n",
       "      <th>97</th>\n",
       "      <td>0</td>\n",
       "      <td>1</td>\n",
       "      <td>1</td>\n",
       "      <td>3</td>\n",
       "    </tr>\n",
       "    <tr>\n",
       "      <th>98</th>\n",
       "      <td>2</td>\n",
       "      <td>2</td>\n",
       "      <td>3</td>\n",
       "      <td>3</td>\n",
       "    </tr>\n",
       "    <tr>\n",
       "      <th>99</th>\n",
       "      <td>2</td>\n",
       "      <td>0</td>\n",
       "      <td>0</td>\n",
       "      <td>3</td>\n",
       "    </tr>\n",
       "    <tr>\n",
       "      <th>100</th>\n",
       "      <td>2</td>\n",
       "      <td>0</td>\n",
       "      <td>0</td>\n",
       "      <td>3</td>\n",
       "    </tr>\n",
       "  </tbody>\n",
       "</table>\n",
       "<p>101 rows × 4 columns</p>\n",
       "</div>"
      ],
      "text/plain": [
       "     PickupX  PickupY  DropoffX  DropoffY\n",
       "0          1        2         0         3\n",
       "1          3        3         1         3\n",
       "2          3        1         3         0\n",
       "3          0        0         1         0\n",
       "4          2        2         1         3\n",
       "5          2        2         2         2\n",
       "6          0        2         2         0\n",
       "7          3        3         1         0\n",
       "8          2        0         2         3\n",
       "9          2        3         2         3\n",
       "10         2        2         0         1\n",
       "11         3        0         0         2\n",
       "12         2        2         0         1\n",
       "13         1        2         3         3\n",
       "14         0        0         2         3\n",
       "15         1        2         3         1\n",
       "16         3        2         0         3\n",
       "17         1        0         1         2\n",
       "18         0        0         1         2\n",
       "19         2        3         3         3\n",
       "20         1        1         1         1\n",
       "21         2        2         0         1\n",
       "22         0        0         3         3\n",
       "23         2        3         1         3\n",
       "24         2        3         2         0\n",
       "25         2        2         1         2\n",
       "26         2        1         2         2\n",
       "27         0        3         2         3\n",
       "28         1        3         2         0\n",
       "29         2        3         0         2\n",
       "..       ...      ...       ...       ...\n",
       "71         3        2         0         3\n",
       "72         3        1         3         2\n",
       "73         1        3         3         0\n",
       "74         2        0         1         3\n",
       "75         1        1         3         2\n",
       "76         1        3         1         3\n",
       "77         1        3         3         0\n",
       "78         2        3         2         3\n",
       "79         2        1         1         3\n",
       "80         0        0         2         1\n",
       "81         0        3         0         0\n",
       "82         3        2         0         1\n",
       "83         1        2         0         2\n",
       "84         0        1         0         3\n",
       "85         1        0         3         0\n",
       "86         1        2         3         0\n",
       "87         2        0         1         0\n",
       "88         0        2         3         3\n",
       "89         3        1         2         2\n",
       "90         0        2         3         3\n",
       "91         3        2         1         3\n",
       "92         2        1         0         0\n",
       "93         2        2         0         1\n",
       "94         1        2         3         2\n",
       "95         2        3         0         1\n",
       "96         3        0         2         2\n",
       "97         0        1         1         3\n",
       "98         2        2         3         3\n",
       "99         2        0         0         3\n",
       "100        2        0         0         3\n",
       "\n",
       "[101 rows x 4 columns]"
      ]
     },
     "execution_count": 24,
     "metadata": {},
     "output_type": "execute_result"
    }
   ],
   "source": [
    "DFRequests"
   ]
  },
  {
   "cell_type": "code",
   "execution_count": 25,
   "metadata": {
    "collapsed": true
   },
   "outputs": [],
   "source": [
    "#export to CSV\n",
    "DFRequests.to_csv('Random_Requests.csv')"
   ]
  },
  {
   "cell_type": "code",
   "execution_count": 106,
   "metadata": {
    "collapsed": true
   },
   "outputs": [],
   "source": [
    "##Create simulation\n",
    "\n",
    "class Location():\n",
    "    #create location, compare to other location\n",
    "    \n",
    "    def __init__(self, X, Y):\n",
    "        self.X = X\n",
    "        self.Y = Y\n",
    "    \n",
    "    def __str__(self):\n",
    "        return \"[%s:%s]\" % (self.X, self.Y)\n",
    "    \n",
    "    def distance_formula(self, other):\n",
    "        #formula to find the distance\n",
    "        \n",
    "        distance = abs(self.X - other.X) + abs(self.Y - other.Y)\n",
    "        return distance\n",
    "    "
   ]
  },
  {
   "cell_type": "code",
   "execution_count": 114,
   "metadata": {
    "collapsed": false
   },
   "outputs": [
    {
     "name": "stdout",
     "output_type": "stream",
     "text": [
      "[2:3]\n"
     ]
    }
   ],
   "source": [
    "location1 = Location(2,3)\n",
    "print location1"
   ]
  },
  {
   "cell_type": "code",
   "execution_count": 3,
   "metadata": {
    "collapsed": false
   },
   "outputs": [
    {
     "name": "stdout",
     "output_type": "stream",
     "text": [
      "[0:1]\n"
     ]
    }
   ],
   "source": [
    "other_location = Location(0,1)\n",
    "print other_location"
   ]
  },
  {
   "cell_type": "code",
   "execution_count": 115,
   "metadata": {
    "collapsed": false,
    "scrolled": false
   },
   "outputs": [
    {
     "data": {
      "text/plain": [
       "4"
      ]
     },
     "execution_count": 115,
     "metadata": {},
     "output_type": "execute_result"
    }
   ],
   "source": [
    "location1.distance_formula(other_location)"
   ]
  },
  {
   "cell_type": "code",
   "execution_count": 116,
   "metadata": {
    "collapsed": false
   },
   "outputs": [],
   "source": [
    "class Request():\n",
    "    \"assign each request two locations\"\n",
    "    \n",
    "    def __init__(self, loc1, loc2):\n",
    "        self.start = loc1\n",
    "        self.end = loc2\n",
    "        self.request = (self.start, self.end)\n",
    "        self.request_distance = Location.distance_formula(self.start, self.end)\n",
    "        \n",
    "    def __str__(self):\n",
    "        \n",
    "        return \"Start: %s  End: %s\" % (str(self.start), str(self.end))\n",
    "        \n",
    "    "
   ]
  },
  {
   "cell_type": "code",
   "execution_count": 86,
   "metadata": {
    "collapsed": false
   },
   "outputs": [
    {
     "name": "stdout",
     "output_type": "stream",
     "text": [
      "Start: [2:3]  End: [0:1]\n"
     ]
    }
   ],
   "source": [
    "# print Request(location1, other_location)"
   ]
  },
  {
   "cell_type": "code",
   "execution_count": 108,
   "metadata": {
    "collapsed": false
   },
   "outputs": [],
   "source": [
    "class iterate_Log():\n",
    "    '''read Log line by line'''\n",
    "    import Queue\n",
    "    \n",
    "    def __init__(self, CSV):\n",
    "        self.log = pd.read_csv(CSV, index_col=0)\n",
    "        self.lengthrequestlist = len(self.log.index)\n",
    "        \n",
    "        self.chain = Queue.Queue()\n",
    "\n",
    "        #put items at the end of the queue\n",
    "        for x in range(self.lengthrequestlist):\n",
    "            self.chain.put(self.this_request(x))\n",
    "    \n",
    "    def this_request(self, row):\n",
    "        self.row = row\n",
    "        self.pickuploc = Location(self.log.iloc[row]['PickupX'], self.log.iloc[row]['PickupY'])\n",
    "        self.dropoffloc = Location(self.log.iloc[row]['DropoffX'], self.log.iloc[row]['DropoffY'])\n",
    "        self.read_request = Request(self.pickuploc, self.dropoffloc)\n",
    "        return self.read_request\n",
    "\n",
    "\n",
    "    def draw_request(self):\n",
    "        '''assigns request'''\n",
    "        r = self.chain.get()\n",
    "        return r\n",
    "        \n",
    "    def assign_request(self, request):\n",
    "        \"puts request back in log or will be utilized to put request in employee queue\"\n",
    "        self.chain.put(request)\n",
    "        \n",
    "    def current_queue(self):\n",
    "        d = self.chain.queue\n",
    "        for x in d:\n",
    "            print str(x)\n",
    "\n",
    "        \n",
    "       \n",
    "                           "
   ]
  },
  {
   "cell_type": "code",
   "execution_count": 36,
   "metadata": {
    "collapsed": true
   },
   "outputs": [],
   "source": [
    "###NEXT STEP ASSIGN JOBS to EMPLOYEE queue"
   ]
  },
  {
   "cell_type": "code",
   "execution_count": 117,
   "metadata": {
    "collapsed": false
   },
   "outputs": [
    {
     "name": "stdout",
     "output_type": "stream",
     "text": [
      "Start: [1:2]  End: [0:3]\n"
     ]
    },
    {
     "data": {
      "text/plain": [
       "<__main__.Request instance at 0x10d33c638>"
      ]
     },
     "execution_count": 117,
     "metadata": {},
     "output_type": "execute_result"
    }
   ],
   "source": [
    "#testing\n",
    "logtest = iterate_Log('Random_Requests.csv')\n",
    "print logtest.draw_request()\n",
    "logtest.draw_request()\n",
    "logtest.draw_request()"
   ]
  },
  {
   "cell_type": "code",
   "execution_count": 109,
   "metadata": {
    "collapsed": true
   },
   "outputs": [],
   "source": [
    "#create a class that acts like an employee\n",
    "class Employee(iterate_Log):\n",
    "    #inherits methos from iterate_Log\n",
    "    def __init__(self):\n",
    "        self.chain = Queue.Queue()\n",
    "        self.currentloc = Location(0,0)\n",
    "        self.employeedistance = 0\n",
    "        \n",
    "    def distance_traveled(self):\n",
    "        d = self.chain.queue\n",
    "        for x in d:\n",
    "            self.employeedistance += Location.distance_formula(self.currentloc, x.start)\n",
    "            self.employeedistance += x.request_distance\n",
    "            self.currentloc= x.end\n",
    "        return self.employeedistance\n",
    "        "
   ]
  },
  {
   "cell_type": "code",
   "execution_count": 110,
   "metadata": {
    "collapsed": false,
    "scrolled": true
   },
   "outputs": [
    {
     "name": "stdout",
     "output_type": "stream",
     "text": [
      "deque([15, 30])\n",
      "2\n"
     ]
    }
   ],
   "source": [
    "#TESTING\n",
    "queue = Queue.Queue()\n",
    "queue.put(15)\n",
    "queue.put(30)\n",
    "d = queue.queue\n",
    "print(d)\n",
    "print len(d)\n",
    "# for n in list(queue.):\n",
    "#     print \"This time, it's: \"+ str(n)\n"
   ]
  },
  {
   "cell_type": "code",
   "execution_count": 118,
   "metadata": {
    "collapsed": false
   },
   "outputs": [
    {
     "name": "stdout",
     "output_type": "stream",
     "text": [
      "Start: [1:2]  End: [0:3]\n",
      "another one\n",
      "Start: [3:3]  End: [1:3]\n",
      "QUEUE\n",
      "Start: [1:2]  End: [0:3]\n",
      "Start: [3:3]  End: [1:3]\n",
      "None\n",
      "10\n"
     ]
    }
   ],
   "source": [
    "#testing\n",
    "log = iterate_Log('Random_Requests.csv')\n",
    "employee1 = Employee()\n",
    "\n",
    "req = log.draw_request()\n",
    "print req\n",
    "employee1.assign_request(req)\n",
    "print \"another one\"\n",
    "req = log.draw_request()\n",
    "print req\n",
    "employee1.assign_request(req)\n",
    "\n",
    "print \"QUEUE\"\n",
    "print employee1.current_queue()\n",
    "\n",
    "print employee1.distance_traveled()\n",
    " \n",
    "\n"
   ]
  },
  {
   "cell_type": "code",
   "execution_count": 120,
   "metadata": {
    "collapsed": false
   },
   "outputs": [],
   "source": [
    "class Typ_Day():\n",
    "    '''assign jobs to employees'''\n",
    "    def __init__(self, CSV):\n",
    "        self.newlog = iterate_Log(CSV)\n",
    "        \n",
    "        self.employeeOne= Employee()\n",
    "        self.employeeTwo= Employee()\n",
    "        \n",
    "    #def travel_dictionary(self):\n",
    "        \n",
    "        \n",
    "        \n",
    "    def jobs_to_employees(self):\n",
    "        while len(self.newlog.chain.queue) >0:\n",
    "            next_req = self.newlog.draw_request()\n",
    "            #accomodate for time frame\n",
    "            #for more than one employee it may be best to use a different condition method such as dictionary\n",
    "            if self.employeeOne.distance_traveled() <= self.employeeTwo.distance_traveled():\n",
    "                self.employeeOne.assign_request(next_req)\n",
    "            else:\n",
    "                self.employeeTwo.assign_request(next_req)\n",
    "        ###ADD condition where if the distance from the next in the queue \n",
    "        return \"all jobs assigned\"\n",
    "    \n",
    "    def Total_travel(self):\n",
    "        travel = int(self.employeeOne.distance_traveled()) + int(self.employeeTwo.distance_traveled())\n",
    "        print \"employee One\"\n",
    "        print self.employeeOne.distance_traveled()\n",
    "        print \"employee Two\"\n",
    "        print self.employeeTwo.distance_traveled() \n",
    "        return travel\n"
   ]
  },
  {
   "cell_type": "code",
   "execution_count": 126,
   "metadata": {
    "collapsed": false
   },
   "outputs": [
    {
     "name": "stdout",
     "output_type": "stream",
     "text": [
      "employee One\n",
      "13333\n",
      "employee Two\n",
      "13313\n",
      "26112\n",
      "employee One\n",
      "13611\n",
      "employee Two\n"
     ]
    },
    {
     "ename": "NameError",
     "evalue": "name 'now' is not defined",
     "output_type": "error",
     "traceback": [
      "\u001b[0;31m---------------------------------------------------------------------------\u001b[0m",
      "\u001b[0;31mNameError\u001b[0m                                 Traceback (most recent call last)",
      "\u001b[0;32m<ipython-input-126-7fc1a4853ac9>\u001b[0m in \u001b[0;36m<module>\u001b[0;34m()\u001b[0m\n\u001b[1;32m      5\u001b[0m \u001b[0;32mprint\u001b[0m \u001b[0mDay1\u001b[0m\u001b[0;34m.\u001b[0m\u001b[0memployeeOne\u001b[0m\u001b[0;34m.\u001b[0m\u001b[0mdistance_traveled\u001b[0m\u001b[0;34m(\u001b[0m\u001b[0;34m)\u001b[0m\u001b[0;34m\u001b[0m\u001b[0m\n\u001b[1;32m      6\u001b[0m \u001b[0;32mprint\u001b[0m \u001b[0;34m\"employee Two\"\u001b[0m\u001b[0;34m\u001b[0m\u001b[0m\n\u001b[0;32m----> 7\u001b[0;31m \u001b[0;32mprint\u001b[0m \u001b[0mnow\u001b[0m\u001b[0;34m(\u001b[0m\u001b[0;34m)\u001b[0m \u001b[0;34m+\u001b[0m \u001b[0mDay1\u001b[0m\u001b[0;34m.\u001b[0m\u001b[0memployeeTwo\u001b[0m\u001b[0;34m.\u001b[0m\u001b[0mdistance_traveled\u001b[0m\u001b[0;34m(\u001b[0m\u001b[0;34m)\u001b[0m\u001b[0;34m\u001b[0m\u001b[0m\n\u001b[0m",
      "\u001b[0;31mNameError\u001b[0m: name 'now' is not defined"
     ]
    }
   ],
   "source": [
    "Day1 = Typ_Day('Random_Requests.csv')\n",
    "Day1.jobs_to_employees()\n",
    "print Day1.Total_travel()\n",
    "print \"employee One\"\n",
    "print Day1.employeeOne.distance_traveled() \n",
    "print \"employee Two\"\n",
    "print now() + Day1.employeeTwo.distance_traveled()"
   ]
  },
  {
   "cell_type": "code",
   "execution_count": 100,
   "metadata": {
    "collapsed": false
   },
   "outputs": [],
   "source": [
    "# class read_Log():\n",
    "#     '''read Log line by line'''\n",
    "    \n",
    "#     def __init__(self, CSV, row):\n",
    "#         self.row = row\n",
    "#         log = pd.read_csv(CSV, index_col=0)\n",
    "#         self.pickuploc = Location(log.iloc[row]['PickupX'], log.iloc[row]['PickupY'])\n",
    "#         self.dropoffloc = Location(log.iloc[row]['DropoffX'], log.iloc[row]['DropoffY'])\n",
    "#         self.read_request = (self.pickuploc, self.dropoffloc)\n",
    "\n",
    "            \n",
    "            \n",
    "#     def __str__(self):\n",
    "#         results = []\n",
    "#         if self.row > len(log.index):\n",
    "#             return \"row number does not exist\"\n",
    "#         for loc in self.read_request:\n",
    "#             results.append(str(loc))\n",
    "#         return str(results)\n",
    "                           "
   ]
  },
  {
   "cell_type": "code",
   "execution_count": 63,
   "metadata": {
    "collapsed": false
   },
   "outputs": [
    {
     "name": "stdout",
     "output_type": "stream",
     "text": [
      "['[0:0]', '[1:0]']\n"
     ]
    }
   ],
   "source": [
    "print read_Log('Random_Requests.csv',3)"
   ]
  },
  {
   "cell_type": "code",
   "execution_count": null,
   "metadata": {
    "collapsed": true
   },
   "outputs": [],
   "source": [
    "SET CSV on highe level"
   ]
  },
  {
   "cell_type": "markdown",
   "metadata": {},
   "source": [
    "Read first two lines of Csv\n",
    "Then one line when repository is 2 locations or less\n",
    "Each line is a list\n",
    "First request and second request\n",
    "Create locations with first two and last two numbers in each line\n",
    "\n",
    "Start with first request assigned to employee\n",
    "Locations are assigned to employee queue\n",
    "First location assigned to employee as current location and removed from queue\n",
    "Difference found between next location (first location in queue)\n",
    "Add to employee distance traveled\n",
    "Second location assigned to employee and removed from queue\n",
    "Load in next request to queue if list queue is empty\n",
    "Repeat difference and add distance traveled\n",
    "Should repeat twice since the queue will not be empty\n",
    "\n",
    "*employee can't be assigned to request because  it wouldn't capture the distance traveled between requests\n",
    "\n",
    "To add multiple employees\n",
    "Compare distance traveled (use as time) amongst employees. Whoever has the least time is assigned the next request"
   ]
  },
  {
   "cell_type": "code",
   "execution_count": null,
   "metadata": {
    "collapsed": true
   },
   "outputs": [],
   "source": [
    "#     def queue(self):\n",
    "#         self.all_request_log = Queue.Queue()\n",
    "\n",
    "#         #put items at the end of the queue\n",
    "#         for x in range(self.lengthrequestlist):\n",
    "#             self.all_request_log.put(logtest.this_request(x))\n",
    "\n",
    "#         #remove items from the head of the queue \n",
    "#         while not self.all_request_log.empty():\n",
    "#             self.all_request_log.get()"
   ]
  },
  {
   "cell_type": "code",
   "execution_count": 89,
   "metadata": {
    "collapsed": false
   },
   "outputs": [],
   "source": [
    "# class Log():\n",
    "#     '''Create Log'''\n",
    "    \n",
    "#     def __init__(self):\n",
    "#         self.pickuploc = []\n",
    "#         self.dropoffloc = []\n",
    "#         for i in range(100):\n",
    "#             pickXrand = random.randint(1,4)\n",
    "#             pickYrand = random.randint(1,4)\n",
    "#             dropXrand = random.randint(1,4)\n",
    "#             dropYrand = random.randint(1,4)\n",
    "#             pickup = Location(pickXrand, pickYrand)\n",
    "#             dropoff = Location(dropXrand, dropYrand)\n",
    "#             self.pickuploc.append(pickup) \n",
    "#             self.dropoffloc.append(dropoff)\n",
    "            \n",
    "            \n",
    "#     def __str__(self):\n",
    "#         results = []\n",
    "#         for loc in self.pickuploc:\n",
    "#             results.append(str(loc))\n",
    "#         return '\\n'.join(results)\n",
    "                           \n",
    "    "
   ]
  },
  {
   "cell_type": "code",
   "execution_count": null,
   "metadata": {
    "collapsed": true
   },
   "outputs": [],
   "source": [
    "# def doleOut(queue, workers):\n",
    "#     for worker,task in itertools.izip(itertools.cycle(workers),queue):\n",
    "#         yield worker,task"
   ]
  },
  {
   "cell_type": "code",
   "execution_count": null,
   "metadata": {
    "collapsed": true
   },
   "outputs": [],
   "source": [
    "# test = pd.read_csv('Random_Requests.csv', index_col=0)\n",
    "# lengthrequestlist = len(test.index)\n",
    "\n",
    "\n",
    "\n",
    "#put items at the end of the queue\n",
    "# for x in range(lengthrequestlist):\n",
    "#     queue.put(logtest.this_request(x))"
   ]
  },
  {
   "cell_type": "code",
   "execution_count": 54,
   "metadata": {
    "collapsed": true
   },
   "outputs": [
    {
     "ename": "SyntaxError",
     "evalue": "invalid syntax (<ipython-input-54-51e1731b6316>, line 8)",
     "output_type": "error",
     "traceback": [
      "\u001b[0;36m  File \u001b[0;32m\"<ipython-input-54-51e1731b6316>\"\u001b[0;36m, line \u001b[0;32m8\u001b[0m\n\u001b[0;31m    self.Pickup =\u001b[0m\n\u001b[0m                  ^\u001b[0m\n\u001b[0;31mSyntaxError\u001b[0m\u001b[0;31m:\u001b[0m invalid syntax\n"
     ]
    }
   ],
   "source": [
    "\n",
    "\n",
    "# class Request():\n",
    "#     #create request\n",
    "    \n",
    "#     def __init__(self, Start= (0,0), End= (0,0)):\n",
    "#     #set locations as start and end (can be pickup or drop off depending \\\n",
    "#     #upon point in process\n",
    "#         self.Start = \n",
    "#         self.End = \n",
    "    \n",
    "#     def __str__(self):\n",
    "#         #     def distance_formula(self):\n",
    "#             #formula to find the distance\n",
    "        \n",
    "#         distance = abs(self.PickupX - self.DropoffX) + abs(self.PickupY - self.DropoffY)\n",
    "        \n",
    "        \n",
    "#         #print string for request location\n",
    "#         return \"Pick Up Location: [%s:%s] \\nDropoff Location: [%s:%s] \\nDistance traveled from Pickup to dropoff is %s\"\\\n",
    "#                         % (self.PickupX, self.PickupY, self.DropoffX, self.DropoffY, distance)\n",
    "    \n",
    "\n",
    "    "
   ]
  }
 ],
 "metadata": {
  "kernelspec": {
   "display_name": "Python 2",
   "language": "python",
   "name": "python2"
  },
  "language_info": {
   "codemirror_mode": {
    "name": "ipython",
    "version": 2
   },
   "file_extension": ".py",
   "mimetype": "text/x-python",
   "name": "python",
   "nbconvert_exporter": "python",
   "pygments_lexer": "ipython2",
   "version": "2.7.13"
  }
 },
 "nbformat": 4,
 "nbformat_minor": 2
}
