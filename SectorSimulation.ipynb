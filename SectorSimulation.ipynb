{
 "cells": [
  {
   "cell_type": "code",
   "execution_count": null,
   "metadata": {
    "collapsed": true
   },
   "outputs": [],
   "source": [
    "https://codereview.stackexchange.com/questions/125286/moving-around-in-a-2d-grid\n"
   ]
  },
  {
   "cell_type": "code",
   "execution_count": 66,
   "metadata": {
    "collapsed": true
   },
   "outputs": [],
   "source": [
    "import pandas as pd"
   ]
  },
  {
   "cell_type": "code",
   "execution_count": 67,
   "metadata": {
    "collapsed": true
   },
   "outputs": [],
   "source": [
    "import numpy as np"
   ]
  },
  {
   "cell_type": "code",
   "execution_count": 68,
   "metadata": {
    "collapsed": true
   },
   "outputs": [],
   "source": [
    "import random"
   ]
  },
  {
   "cell_type": "code",
   "execution_count": null,
   "metadata": {
    "collapsed": true
   },
   "outputs": [],
   "source": [
    "class Board(list):\n",
    "\n",
    "    def __str__(self):\n",
    "        return \"\\n\".join(\" \".join(row) for row in self)"
   ]
  },
  {
   "cell_type": "code",
   "execution_count": null,
   "metadata": {
    "collapsed": true
   },
   "outputs": [],
   "source": [
    "#create randomized jobs"
   ]
  },
  {
   "cell_type": "code",
   "execution_count": 4,
   "metadata": {
    "collapsed": true
   },
   "outputs": [],
   "source": [
    "columns= ['PickupX', 'PickupY', 'DropoffX', 'DropoffY']"
   ]
  },
  {
   "cell_type": "code",
   "execution_count": 23,
   "metadata": {
    "collapsed": false
   },
   "outputs": [],
   "source": [
    "DFRequests = pd.DataFrame(np.random.randint(4, size=(101, 4)), columns= columns)"
   ]
  },
  {
   "cell_type": "code",
   "execution_count": 24,
   "metadata": {
    "collapsed": false
   },
   "outputs": [
    {
     "data": {
      "text/html": [
       "<div>\n",
       "<table border=\"1\" class=\"dataframe\">\n",
       "  <thead>\n",
       "    <tr style=\"text-align: right;\">\n",
       "      <th></th>\n",
       "      <th>PickupX</th>\n",
       "      <th>PickupY</th>\n",
       "      <th>DropoffX</th>\n",
       "      <th>DropoffY</th>\n",
       "    </tr>\n",
       "  </thead>\n",
       "  <tbody>\n",
       "    <tr>\n",
       "      <th>0</th>\n",
       "      <td>1</td>\n",
       "      <td>2</td>\n",
       "      <td>0</td>\n",
       "      <td>3</td>\n",
       "    </tr>\n",
       "    <tr>\n",
       "      <th>1</th>\n",
       "      <td>3</td>\n",
       "      <td>3</td>\n",
       "      <td>1</td>\n",
       "      <td>3</td>\n",
       "    </tr>\n",
       "    <tr>\n",
       "      <th>2</th>\n",
       "      <td>3</td>\n",
       "      <td>1</td>\n",
       "      <td>3</td>\n",
       "      <td>0</td>\n",
       "    </tr>\n",
       "    <tr>\n",
       "      <th>3</th>\n",
       "      <td>0</td>\n",
       "      <td>0</td>\n",
       "      <td>1</td>\n",
       "      <td>0</td>\n",
       "    </tr>\n",
       "    <tr>\n",
       "      <th>4</th>\n",
       "      <td>2</td>\n",
       "      <td>2</td>\n",
       "      <td>1</td>\n",
       "      <td>3</td>\n",
       "    </tr>\n",
       "    <tr>\n",
       "      <th>5</th>\n",
       "      <td>2</td>\n",
       "      <td>2</td>\n",
       "      <td>2</td>\n",
       "      <td>2</td>\n",
       "    </tr>\n",
       "    <tr>\n",
       "      <th>6</th>\n",
       "      <td>0</td>\n",
       "      <td>2</td>\n",
       "      <td>2</td>\n",
       "      <td>0</td>\n",
       "    </tr>\n",
       "    <tr>\n",
       "      <th>7</th>\n",
       "      <td>3</td>\n",
       "      <td>3</td>\n",
       "      <td>1</td>\n",
       "      <td>0</td>\n",
       "    </tr>\n",
       "    <tr>\n",
       "      <th>8</th>\n",
       "      <td>2</td>\n",
       "      <td>0</td>\n",
       "      <td>2</td>\n",
       "      <td>3</td>\n",
       "    </tr>\n",
       "    <tr>\n",
       "      <th>9</th>\n",
       "      <td>2</td>\n",
       "      <td>3</td>\n",
       "      <td>2</td>\n",
       "      <td>3</td>\n",
       "    </tr>\n",
       "    <tr>\n",
       "      <th>10</th>\n",
       "      <td>2</td>\n",
       "      <td>2</td>\n",
       "      <td>0</td>\n",
       "      <td>1</td>\n",
       "    </tr>\n",
       "    <tr>\n",
       "      <th>11</th>\n",
       "      <td>3</td>\n",
       "      <td>0</td>\n",
       "      <td>0</td>\n",
       "      <td>2</td>\n",
       "    </tr>\n",
       "    <tr>\n",
       "      <th>12</th>\n",
       "      <td>2</td>\n",
       "      <td>2</td>\n",
       "      <td>0</td>\n",
       "      <td>1</td>\n",
       "    </tr>\n",
       "    <tr>\n",
       "      <th>13</th>\n",
       "      <td>1</td>\n",
       "      <td>2</td>\n",
       "      <td>3</td>\n",
       "      <td>3</td>\n",
       "    </tr>\n",
       "    <tr>\n",
       "      <th>14</th>\n",
       "      <td>0</td>\n",
       "      <td>0</td>\n",
       "      <td>2</td>\n",
       "      <td>3</td>\n",
       "    </tr>\n",
       "    <tr>\n",
       "      <th>15</th>\n",
       "      <td>1</td>\n",
       "      <td>2</td>\n",
       "      <td>3</td>\n",
       "      <td>1</td>\n",
       "    </tr>\n",
       "    <tr>\n",
       "      <th>16</th>\n",
       "      <td>3</td>\n",
       "      <td>2</td>\n",
       "      <td>0</td>\n",
       "      <td>3</td>\n",
       "    </tr>\n",
       "    <tr>\n",
       "      <th>17</th>\n",
       "      <td>1</td>\n",
       "      <td>0</td>\n",
       "      <td>1</td>\n",
       "      <td>2</td>\n",
       "    </tr>\n",
       "    <tr>\n",
       "      <th>18</th>\n",
       "      <td>0</td>\n",
       "      <td>0</td>\n",
       "      <td>1</td>\n",
       "      <td>2</td>\n",
       "    </tr>\n",
       "    <tr>\n",
       "      <th>19</th>\n",
       "      <td>2</td>\n",
       "      <td>3</td>\n",
       "      <td>3</td>\n",
       "      <td>3</td>\n",
       "    </tr>\n",
       "    <tr>\n",
       "      <th>20</th>\n",
       "      <td>1</td>\n",
       "      <td>1</td>\n",
       "      <td>1</td>\n",
       "      <td>1</td>\n",
       "    </tr>\n",
       "    <tr>\n",
       "      <th>21</th>\n",
       "      <td>2</td>\n",
       "      <td>2</td>\n",
       "      <td>0</td>\n",
       "      <td>1</td>\n",
       "    </tr>\n",
       "    <tr>\n",
       "      <th>22</th>\n",
       "      <td>0</td>\n",
       "      <td>0</td>\n",
       "      <td>3</td>\n",
       "      <td>3</td>\n",
       "    </tr>\n",
       "    <tr>\n",
       "      <th>23</th>\n",
       "      <td>2</td>\n",
       "      <td>3</td>\n",
       "      <td>1</td>\n",
       "      <td>3</td>\n",
       "    </tr>\n",
       "    <tr>\n",
       "      <th>24</th>\n",
       "      <td>2</td>\n",
       "      <td>3</td>\n",
       "      <td>2</td>\n",
       "      <td>0</td>\n",
       "    </tr>\n",
       "    <tr>\n",
       "      <th>25</th>\n",
       "      <td>2</td>\n",
       "      <td>2</td>\n",
       "      <td>1</td>\n",
       "      <td>2</td>\n",
       "    </tr>\n",
       "    <tr>\n",
       "      <th>26</th>\n",
       "      <td>2</td>\n",
       "      <td>1</td>\n",
       "      <td>2</td>\n",
       "      <td>2</td>\n",
       "    </tr>\n",
       "    <tr>\n",
       "      <th>27</th>\n",
       "      <td>0</td>\n",
       "      <td>3</td>\n",
       "      <td>2</td>\n",
       "      <td>3</td>\n",
       "    </tr>\n",
       "    <tr>\n",
       "      <th>28</th>\n",
       "      <td>1</td>\n",
       "      <td>3</td>\n",
       "      <td>2</td>\n",
       "      <td>0</td>\n",
       "    </tr>\n",
       "    <tr>\n",
       "      <th>29</th>\n",
       "      <td>2</td>\n",
       "      <td>3</td>\n",
       "      <td>0</td>\n",
       "      <td>2</td>\n",
       "    </tr>\n",
       "    <tr>\n",
       "      <th>...</th>\n",
       "      <td>...</td>\n",
       "      <td>...</td>\n",
       "      <td>...</td>\n",
       "      <td>...</td>\n",
       "    </tr>\n",
       "    <tr>\n",
       "      <th>71</th>\n",
       "      <td>3</td>\n",
       "      <td>2</td>\n",
       "      <td>0</td>\n",
       "      <td>3</td>\n",
       "    </tr>\n",
       "    <tr>\n",
       "      <th>72</th>\n",
       "      <td>3</td>\n",
       "      <td>1</td>\n",
       "      <td>3</td>\n",
       "      <td>2</td>\n",
       "    </tr>\n",
       "    <tr>\n",
       "      <th>73</th>\n",
       "      <td>1</td>\n",
       "      <td>3</td>\n",
       "      <td>3</td>\n",
       "      <td>0</td>\n",
       "    </tr>\n",
       "    <tr>\n",
       "      <th>74</th>\n",
       "      <td>2</td>\n",
       "      <td>0</td>\n",
       "      <td>1</td>\n",
       "      <td>3</td>\n",
       "    </tr>\n",
       "    <tr>\n",
       "      <th>75</th>\n",
       "      <td>1</td>\n",
       "      <td>1</td>\n",
       "      <td>3</td>\n",
       "      <td>2</td>\n",
       "    </tr>\n",
       "    <tr>\n",
       "      <th>76</th>\n",
       "      <td>1</td>\n",
       "      <td>3</td>\n",
       "      <td>1</td>\n",
       "      <td>3</td>\n",
       "    </tr>\n",
       "    <tr>\n",
       "      <th>77</th>\n",
       "      <td>1</td>\n",
       "      <td>3</td>\n",
       "      <td>3</td>\n",
       "      <td>0</td>\n",
       "    </tr>\n",
       "    <tr>\n",
       "      <th>78</th>\n",
       "      <td>2</td>\n",
       "      <td>3</td>\n",
       "      <td>2</td>\n",
       "      <td>3</td>\n",
       "    </tr>\n",
       "    <tr>\n",
       "      <th>79</th>\n",
       "      <td>2</td>\n",
       "      <td>1</td>\n",
       "      <td>1</td>\n",
       "      <td>3</td>\n",
       "    </tr>\n",
       "    <tr>\n",
       "      <th>80</th>\n",
       "      <td>0</td>\n",
       "      <td>0</td>\n",
       "      <td>2</td>\n",
       "      <td>1</td>\n",
       "    </tr>\n",
       "    <tr>\n",
       "      <th>81</th>\n",
       "      <td>0</td>\n",
       "      <td>3</td>\n",
       "      <td>0</td>\n",
       "      <td>0</td>\n",
       "    </tr>\n",
       "    <tr>\n",
       "      <th>82</th>\n",
       "      <td>3</td>\n",
       "      <td>2</td>\n",
       "      <td>0</td>\n",
       "      <td>1</td>\n",
       "    </tr>\n",
       "    <tr>\n",
       "      <th>83</th>\n",
       "      <td>1</td>\n",
       "      <td>2</td>\n",
       "      <td>0</td>\n",
       "      <td>2</td>\n",
       "    </tr>\n",
       "    <tr>\n",
       "      <th>84</th>\n",
       "      <td>0</td>\n",
       "      <td>1</td>\n",
       "      <td>0</td>\n",
       "      <td>3</td>\n",
       "    </tr>\n",
       "    <tr>\n",
       "      <th>85</th>\n",
       "      <td>1</td>\n",
       "      <td>0</td>\n",
       "      <td>3</td>\n",
       "      <td>0</td>\n",
       "    </tr>\n",
       "    <tr>\n",
       "      <th>86</th>\n",
       "      <td>1</td>\n",
       "      <td>2</td>\n",
       "      <td>3</td>\n",
       "      <td>0</td>\n",
       "    </tr>\n",
       "    <tr>\n",
       "      <th>87</th>\n",
       "      <td>2</td>\n",
       "      <td>0</td>\n",
       "      <td>1</td>\n",
       "      <td>0</td>\n",
       "    </tr>\n",
       "    <tr>\n",
       "      <th>88</th>\n",
       "      <td>0</td>\n",
       "      <td>2</td>\n",
       "      <td>3</td>\n",
       "      <td>3</td>\n",
       "    </tr>\n",
       "    <tr>\n",
       "      <th>89</th>\n",
       "      <td>3</td>\n",
       "      <td>1</td>\n",
       "      <td>2</td>\n",
       "      <td>2</td>\n",
       "    </tr>\n",
       "    <tr>\n",
       "      <th>90</th>\n",
       "      <td>0</td>\n",
       "      <td>2</td>\n",
       "      <td>3</td>\n",
       "      <td>3</td>\n",
       "    </tr>\n",
       "    <tr>\n",
       "      <th>91</th>\n",
       "      <td>3</td>\n",
       "      <td>2</td>\n",
       "      <td>1</td>\n",
       "      <td>3</td>\n",
       "    </tr>\n",
       "    <tr>\n",
       "      <th>92</th>\n",
       "      <td>2</td>\n",
       "      <td>1</td>\n",
       "      <td>0</td>\n",
       "      <td>0</td>\n",
       "    </tr>\n",
       "    <tr>\n",
       "      <th>93</th>\n",
       "      <td>2</td>\n",
       "      <td>2</td>\n",
       "      <td>0</td>\n",
       "      <td>1</td>\n",
       "    </tr>\n",
       "    <tr>\n",
       "      <th>94</th>\n",
       "      <td>1</td>\n",
       "      <td>2</td>\n",
       "      <td>3</td>\n",
       "      <td>2</td>\n",
       "    </tr>\n",
       "    <tr>\n",
       "      <th>95</th>\n",
       "      <td>2</td>\n",
       "      <td>3</td>\n",
       "      <td>0</td>\n",
       "      <td>1</td>\n",
       "    </tr>\n",
       "    <tr>\n",
       "      <th>96</th>\n",
       "      <td>3</td>\n",
       "      <td>0</td>\n",
       "      <td>2</td>\n",
       "      <td>2</td>\n",
       "    </tr>\n",
       "    <tr>\n",
       "      <th>97</th>\n",
       "      <td>0</td>\n",
       "      <td>1</td>\n",
       "      <td>1</td>\n",
       "      <td>3</td>\n",
       "    </tr>\n",
       "    <tr>\n",
       "      <th>98</th>\n",
       "      <td>2</td>\n",
       "      <td>2</td>\n",
       "      <td>3</td>\n",
       "      <td>3</td>\n",
       "    </tr>\n",
       "    <tr>\n",
       "      <th>99</th>\n",
       "      <td>2</td>\n",
       "      <td>0</td>\n",
       "      <td>0</td>\n",
       "      <td>3</td>\n",
       "    </tr>\n",
       "    <tr>\n",
       "      <th>100</th>\n",
       "      <td>2</td>\n",
       "      <td>0</td>\n",
       "      <td>0</td>\n",
       "      <td>3</td>\n",
       "    </tr>\n",
       "  </tbody>\n",
       "</table>\n",
       "<p>101 rows × 4 columns</p>\n",
       "</div>"
      ],
      "text/plain": [
       "     PickupX  PickupY  DropoffX  DropoffY\n",
       "0          1        2         0         3\n",
       "1          3        3         1         3\n",
       "2          3        1         3         0\n",
       "3          0        0         1         0\n",
       "4          2        2         1         3\n",
       "5          2        2         2         2\n",
       "6          0        2         2         0\n",
       "7          3        3         1         0\n",
       "8          2        0         2         3\n",
       "9          2        3         2         3\n",
       "10         2        2         0         1\n",
       "11         3        0         0         2\n",
       "12         2        2         0         1\n",
       "13         1        2         3         3\n",
       "14         0        0         2         3\n",
       "15         1        2         3         1\n",
       "16         3        2         0         3\n",
       "17         1        0         1         2\n",
       "18         0        0         1         2\n",
       "19         2        3         3         3\n",
       "20         1        1         1         1\n",
       "21         2        2         0         1\n",
       "22         0        0         3         3\n",
       "23         2        3         1         3\n",
       "24         2        3         2         0\n",
       "25         2        2         1         2\n",
       "26         2        1         2         2\n",
       "27         0        3         2         3\n",
       "28         1        3         2         0\n",
       "29         2        3         0         2\n",
       "..       ...      ...       ...       ...\n",
       "71         3        2         0         3\n",
       "72         3        1         3         2\n",
       "73         1        3         3         0\n",
       "74         2        0         1         3\n",
       "75         1        1         3         2\n",
       "76         1        3         1         3\n",
       "77         1        3         3         0\n",
       "78         2        3         2         3\n",
       "79         2        1         1         3\n",
       "80         0        0         2         1\n",
       "81         0        3         0         0\n",
       "82         3        2         0         1\n",
       "83         1        2         0         2\n",
       "84         0        1         0         3\n",
       "85         1        0         3         0\n",
       "86         1        2         3         0\n",
       "87         2        0         1         0\n",
       "88         0        2         3         3\n",
       "89         3        1         2         2\n",
       "90         0        2         3         3\n",
       "91         3        2         1         3\n",
       "92         2        1         0         0\n",
       "93         2        2         0         1\n",
       "94         1        2         3         2\n",
       "95         2        3         0         1\n",
       "96         3        0         2         2\n",
       "97         0        1         1         3\n",
       "98         2        2         3         3\n",
       "99         2        0         0         3\n",
       "100        2        0         0         3\n",
       "\n",
       "[101 rows x 4 columns]"
      ]
     },
     "execution_count": 24,
     "metadata": {},
     "output_type": "execute_result"
    }
   ],
   "source": [
    "DFRequests"
   ]
  },
  {
   "cell_type": "code",
   "execution_count": 25,
   "metadata": {
    "collapsed": true
   },
   "outputs": [],
   "source": [
    "#export to CSV\n",
    "DFRequests.to_csv('Random_Requests.csv')"
   ]
  },
  {
   "cell_type": "code",
   "execution_count": 54,
   "metadata": {
    "collapsed": true
   },
   "outputs": [
    {
     "ename": "SyntaxError",
     "evalue": "invalid syntax (<ipython-input-54-51e1731b6316>, line 8)",
     "output_type": "error",
     "traceback": [
      "\u001b[0;36m  File \u001b[0;32m\"<ipython-input-54-51e1731b6316>\"\u001b[0;36m, line \u001b[0;32m8\u001b[0m\n\u001b[0;31m    self.Pickup =\u001b[0m\n\u001b[0m                  ^\u001b[0m\n\u001b[0;31mSyntaxError\u001b[0m\u001b[0;31m:\u001b[0m invalid syntax\n"
     ]
    }
   ],
   "source": [
    "\n",
    "\n",
    "# class Request():\n",
    "#     #create request\n",
    "    \n",
    "#     def __init__(self, Start= (0,0), End= (0,0)):\n",
    "#     #set locations as start and end (can be pickup or drop off depending \\\n",
    "#     #upon point in process\n",
    "#         self.Start = \n",
    "#         self.End = \n",
    "    \n",
    "#     def __str__(self):\n",
    "#         #     def distance_formula(self):\n",
    "#             #formula to find the distance\n",
    "        \n",
    "#         distance = abs(self.PickupX - self.DropoffX) + abs(self.PickupY - self.DropoffY)\n",
    "        \n",
    "        \n",
    "#         #print string for request location\n",
    "#         return \"Pick Up Location: [%s:%s] \\nDropoff Location: [%s:%s] \\nDistance traveled from Pickup to dropoff is %s\"\\\n",
    "#                         % (self.PickupX, self.PickupY, self.DropoffX, self.DropoffY, distance)\n",
    "    \n",
    "\n",
    "    "
   ]
  },
  {
   "cell_type": "code",
   "execution_count": 69,
   "metadata": {
    "collapsed": true
   },
   "outputs": [],
   "source": [
    "##Create simulation\n",
    "\n",
    "class Location():\n",
    "    #create location, compare to other location\n",
    "    \n",
    "    def __init__(self, X, Y):\n",
    "        self.X = X\n",
    "        self.Y = Y\n",
    "    \n",
    "    def __str__(self):\n",
    "        return \"[%s:%s]\" % (self.X, self.Y)\n",
    "    \n",
    "    def distance_formula(self, other):\n",
    "        #formula to find the distance\n",
    "        \n",
    "        distance = abs(self.X - other.X) + abs(self.Y - other.Y)\n",
    "        return distance\n",
    "    "
   ]
  },
  {
   "cell_type": "code",
   "execution_count": 70,
   "metadata": {
    "collapsed": false
   },
   "outputs": [
    {
     "name": "stdout",
     "output_type": "stream",
     "text": [
      "[2:3]\n"
     ]
    }
   ],
   "source": [
    "location1 = Location(2,3)\n",
    "print location1"
   ]
  },
  {
   "cell_type": "code",
   "execution_count": 71,
   "metadata": {
    "collapsed": false
   },
   "outputs": [
    {
     "name": "stdout",
     "output_type": "stream",
     "text": [
      "[0:1]\n"
     ]
    }
   ],
   "source": [
    "other_location = Location(0,1)\n",
    "print other_location"
   ]
  },
  {
   "cell_type": "code",
   "execution_count": null,
   "metadata": {
    "collapsed": false
   },
   "outputs": [],
   "source": []
  },
  {
   "cell_type": "code",
   "execution_count": 72,
   "metadata": {
    "collapsed": false,
    "scrolled": false
   },
   "outputs": [
    {
     "data": {
      "text/plain": [
       "4"
      ]
     },
     "execution_count": 72,
     "metadata": {},
     "output_type": "execute_result"
    }
   ],
   "source": [
    "location1.distance_formula(other_location)"
   ]
  },
  {
   "cell_type": "code",
   "execution_count": 85,
   "metadata": {
    "collapsed": false
   },
   "outputs": [],
   "source": [
    "class Request():\n",
    "    \"assign each request two locations\"\n",
    "    \n",
    "    def __init__(self, loc1, loc2):\n",
    "        self.start = loc1\n",
    "        self.end = loc2\n",
    "        self.request = (self.start, self.end)\n",
    "        self.request_distance = \n",
    "        \n",
    "    def __str__(self):\n",
    "        \n",
    "        return \"Start: %s  End: %s\" % (str(self.start), str(self.end))\n",
    "        \n",
    "    "
   ]
  },
  {
   "cell_type": "code",
   "execution_count": 86,
   "metadata": {
    "collapsed": false
   },
   "outputs": [
    {
     "name": "stdout",
     "output_type": "stream",
     "text": [
      "Start: [2:3]  End: [0:1]\n"
     ]
    }
   ],
   "source": [
    "print Request(location1, other_location)"
   ]
  },
  {
   "cell_type": "code",
   "execution_count": 43,
   "metadata": {
    "collapsed": false
   },
   "outputs": [
    {
     "name": "stdout",
     "output_type": "stream",
     "text": [
      "Pick Up Location: [1:1] \n",
      "Dropoff Location: [1:4] \n",
      "Distance traveled from Pickup to dropoff is 3\n"
     ]
    }
   ],
   "source": [
    "request1 = Request(1,1,1,4)\n",
    "print request1"
   ]
  },
  {
   "cell_type": "code",
   "execution_count": 44,
   "metadata": {
    "collapsed": false
   },
   "outputs": [
    {
     "data": {
      "text/plain": [
       "PickupX     3\n",
       "PickupY     1\n",
       "DropoffX    3\n",
       "DropoffY    0\n",
       "Name: 2, dtype: int64"
      ]
     },
     "execution_count": 44,
     "metadata": {},
     "output_type": "execute_result"
    }
   ],
   "source": [
    "log = pd.read_csv('Random_Requests.csv', index_col=0)\n",
    "\n",
    "log.iloc[2]\n"
   ]
  },
  {
   "cell_type": "code",
   "execution_count": null,
   "metadata": {
    "collapsed": true
   },
   "outputs": [],
   "source": [
    "def doleOut(queue, workers):\n",
    "    for worker,task in itertools.izip(itertools.cycle(workers),queue):\n",
    "        yield worker,task"
   ]
  },
  {
   "cell_type": "code",
   "execution_count": null,
   "metadata": {
    "collapsed": true
   },
   "outputs": [],
   "source": [
    "class iterate_Log():\n",
    "    '''read Log line by line'''\n",
    "    \n",
    "    def __init__(self, CSV):\n",
    "        read\n",
    "    \n",
    "    def read request(self, row):\n",
    "        self.row = row\n",
    "        log = pd.read_csv(self.CSV, index_col=0)\n",
    "        self.pickuploc = Location(log.iloc[row]['PickupX'], log.iloc[row]['PickupY'])\n",
    "        self.dropoffloc = Location(log.iloc[row]['DropoffX'], log.iloc[row]['DropoffY'])\n",
    "        self.read_request = (self.pickuploc, self.dropoffloc)\n",
    "\n",
    "            \n",
    "            \n",
    "    def __str__(self):\n",
    "        results = []\n",
    "        if self.row > len(log.index):\n",
    "            return \"row number does not exist\"\n",
    "        for loc in self.read_request:\n",
    "            results.append(str(loc))\n",
    "        return str(results)\n",
    "                           "
   ]
  },
  {
   "cell_type": "code",
   "execution_count": 62,
   "metadata": {
    "collapsed": false
   },
   "outputs": [],
   "source": [
    "# class read_Log():\n",
    "#     '''read Log line by line'''\n",
    "    \n",
    "#     def __init__(self, CSV, row):\n",
    "#         self.row = row\n",
    "#         log = pd.read_csv(CSV, index_col=0)\n",
    "#         self.pickuploc = Location(log.iloc[row]['PickupX'], log.iloc[row]['PickupY'])\n",
    "#         self.dropoffloc = Location(log.iloc[row]['DropoffX'], log.iloc[row]['DropoffY'])\n",
    "#         self.read_request = (self.pickuploc, self.dropoffloc)\n",
    "\n",
    "            \n",
    "            \n",
    "#     def __str__(self):\n",
    "#         results = []\n",
    "#         if self.row > len(log.index):\n",
    "#             return \"row number does not exist\"\n",
    "#         for loc in self.read_request:\n",
    "#             results.append(str(loc))\n",
    "#         return str(results)\n",
    "                           "
   ]
  },
  {
   "cell_type": "code",
   "execution_count": 63,
   "metadata": {
    "collapsed": false
   },
   "outputs": [
    {
     "name": "stdout",
     "output_type": "stream",
     "text": [
      "['[0:0]', '[1:0]']\n"
     ]
    }
   ],
   "source": [
    "print read_Log('Random_Requests.csv',3)"
   ]
  },
  {
   "cell_type": "code",
   "execution_count": null,
   "metadata": {
    "collapsed": true
   },
   "outputs": [],
   "source": [
    "SET CSV on highe level"
   ]
  },
  {
   "cell_type": "markdown",
   "metadata": {},
   "source": [
    "Read first two lines of Csv\n",
    "Then one line when repository is 2 locations or less\n",
    "Each line is a list\n",
    "First request and second request\n",
    "Create locations with first two and last two numbers in each line\n",
    "\n",
    "Start with first request assigned to employee\n",
    "Locations are assigned to employee queue\n",
    "First location assigned to employee as current location and removed from queue\n",
    "Difference found between next location (first location in queue)\n",
    "Add to employee distance traveled\n",
    "Second location assigned to employee and removed from queue\n",
    "Load in next request to queue if list queue is empty\n",
    "Repeat difference and add distance traveled\n",
    "Should repeat twice since the queue will not be empty\n",
    "\n",
    "*employee can't be assigned to request because  it wouldn't capture the distance traveled between requests\n",
    "\n",
    "To add multiple employees\n",
    "Compare distance traveled (use as time) amongst employees. Whoever has the least time is assigned the next request"
   ]
  },
  {
   "cell_type": "code",
   "execution_count": null,
   "metadata": {
    "collapsed": true
   },
   "outputs": [],
   "source": [
    "#create a class that acts like an employee\n",
    "class Employee(read_Log):\n",
    "    #inherits methos from read_Log\n",
    "    def __init__(self):\n",
    "        self.queue = []\n",
    "        self.currentloc = Location(0,0)\n",
    "    \n",
    "    def assign_job(self):\n",
    "        queue = []\n",
    "        \n",
    "        \n",
    "        self.current_loc = curloc\n",
    "        "
   ]
  },
  {
   "cell_type": "code",
   "execution_count": null,
   "metadata": {
    "collapsed": true
   },
   "outputs": [],
   "source": []
  },
  {
   "cell_type": "code",
   "execution_count": 89,
   "metadata": {
    "collapsed": false
   },
   "outputs": [],
   "source": [
    "# class Log():\n",
    "#     '''Create Log'''\n",
    "    \n",
    "#     def __init__(self):\n",
    "#         self.pickuploc = []\n",
    "#         self.dropoffloc = []\n",
    "#         for i in range(100):\n",
    "#             pickXrand = random.randint(1,4)\n",
    "#             pickYrand = random.randint(1,4)\n",
    "#             dropXrand = random.randint(1,4)\n",
    "#             dropYrand = random.randint(1,4)\n",
    "#             pickup = Location(pickXrand, pickYrand)\n",
    "#             dropoff = Location(dropXrand, dropYrand)\n",
    "#             self.pickuploc.append(pickup) \n",
    "#             self.dropoffloc.append(dropoff)\n",
    "            \n",
    "            \n",
    "#     def __str__(self):\n",
    "#         results = []\n",
    "#         for loc in self.pickuploc:\n",
    "#             results.append(str(loc))\n",
    "#         return '\\n'.join(results)\n",
    "                           \n",
    "    "
   ]
  }
 ],
 "metadata": {
  "kernelspec": {
   "display_name": "Python 2",
   "language": "python",
   "name": "python2"
  },
  "language_info": {
   "codemirror_mode": {
    "name": "ipython",
    "version": 2
   },
   "file_extension": ".py",
   "mimetype": "text/x-python",
   "name": "python",
   "nbconvert_exporter": "python",
   "pygments_lexer": "ipython2",
   "version": "2.7.13"
  }
 },
 "nbformat": 4,
 "nbformat_minor": 2
}
